{
 "cells": [
  {
   "cell_type": "code",
   "execution_count": 4,
   "id": "bff4d6a5-6889-4232-8696-19118730015f",
   "metadata": {},
   "outputs": [
    {
     "name": "stdout",
     "output_type": "stream",
     "text": [
      "PDF 요소를 추출하는 중...\n",
      "PDF 요소를 처리하고 번역하는 중...\n",
      "번역 중 오류 발생: 'ChatCompletionMessage' object has no attribute 'strip'\n",
      "번역된 PDF를 생성하는 중...\n"
     ]
    },
    {
     "name": "stderr",
     "output_type": "stream",
     "text": [
      "Traceback (most recent call last):\n",
      "  File \"D:\\translateProject\\main.py\", line 33, in <module>\n",
      "    main()\n",
      "  File \"D:\\translateProject\\main.py\", line 28, in main\n",
      "    create_translated_pdf(processed_elements, output_pdf_path, page_sizes, target_language)\n",
      "  File \"D:\\translateProject\\reorganize.py\", line 79, in create_translated_pdf\n",
      "    doc.build(\n",
      "TypeError: BaseDocTemplate.build() got an unexpected keyword argument 'onFirstPage'\n"
     ]
    }
   ],
   "source": [
    "!python main.py ./test.pdf"
   ]
  },
  {
   "cell_type": "code",
   "execution_count": null,
   "id": "3fe4d30c-3ee8-4cb6-8927-d4b2933f73b4",
   "metadata": {},
   "outputs": [],
   "source": []
  }
 ],
 "metadata": {
  "kernelspec": {
   "display_name": "translate",
   "language": "python",
   "name": "translate"
  },
  "language_info": {
   "codemirror_mode": {
    "name": "ipython",
    "version": 3
   },
   "file_extension": ".py",
   "mimetype": "text/x-python",
   "name": "python",
   "nbconvert_exporter": "python",
   "pygments_lexer": "ipython3",
   "version": "3.12.7"
  }
 },
 "nbformat": 4,
 "nbformat_minor": 5
}
